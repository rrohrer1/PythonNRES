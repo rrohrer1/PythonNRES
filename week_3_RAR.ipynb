{
 "cells": [
  {
   "cell_type": "code",
   "execution_count": 2,
   "metadata": {},
   "outputs": [
    {
     "data": {
      "text/plain": [
       "(7, 'longest')"
      ]
     },
     "execution_count": 2,
     "metadata": {},
     "output_type": "execute_result"
    }
   ],
   "source": [
    "# 1. Write a Python function that takes a list of words and returns the length of the longest one.\n",
    "\n",
    "def longest_word(word_list):\n",
    "    max_length = 0\n",
    "    for word in word_list:\n",
    "        if len(word) > max_length:  # check length of each word in the list\n",
    "            longest_word = word     # store longest word in longest_word\n",
    "            max_length = len(word)  # store length of longest word on max_length\n",
    "            \n",
    "    return max_length, longest_word\n",
    "\n",
    "my_word_list = ['What', 'is', 'the', 'longest', 'word', 'in', 'this', 'list', '?']\n",
    "\n",
    "longest_word(my_word_list)"
   ]
  },
  {
   "cell_type": "code",
   "execution_count": 5,
   "metadata": {},
   "outputs": [
    {
     "data": {
      "text/plain": [
       "19"
      ]
     },
     "execution_count": 5,
     "metadata": {},
     "output_type": "execute_result"
    }
   ],
   "source": [
    "# 2. Write a Python program to count the number of unique characters in a string (i.e. how many a's, how many b's, etc.).\n",
    "\n",
    "my_string = \"How many unique characters are in this string?\"\n",
    "\n",
    "def numOfCharacters(string):\n",
    "    return(len(set(string))) # convert string to set, this removes duplicate characters automatically, then get length of the set (a set is a unique item collection)\n",
    "\n",
    "numOfCharacters(my_string)"
   ]
  },
  {
   "cell_type": "code",
   "execution_count": 8,
   "metadata": {},
   "outputs": [
    {
     "name": "stdout",
     "output_type": "stream",
     "text": [
      "Ascending order: {'key4': -6, 'key2': 5, 'key1': 12, 'key3': 125, 'key5': 1502}\n",
      "Descending order: {'key5': 1502, 'key3': 125, 'key1': 12, 'key2': 5, 'key4': -6}\n"
     ]
    }
   ],
   "source": [
    "# 3. Write a Python program to sort (ascending and descending) a dictionary by value.\n",
    "\n",
    "my_dictionary = {'key1': 12, 'key2': 5, 'key3': 125, 'key4': -6, 'key5': 1502}\n",
    "\n",
    "def sortDictionaryValues(dictionary):\n",
    "        \n",
    "    inverse_dict = dict()                             # initialize dictionary variable\n",
    "    for k in dictionary:\n",
    "        inverse_dict[dictionary[k]] = k               # create new dicionary with keys and values reversed\n",
    "       \n",
    "    dictionary_values = list(dictionary.values())     # create list of values from original dictionary\n",
    "    sortUp = sorted(dictionary_values)                # sort in ascending order\n",
    "    sortDown = sorted(dictionary_values,reverse=True) # sort in descending order\n",
    "    \n",
    "    sortedAscending = dict()                          # initialize dictionary variable\n",
    "    sortedDescending = dict()                         # initialize dictionary variable\n",
    "    \n",
    "    for v in sortUp:\n",
    "        sortedAscending[inverse_dict[v]] = v           # recreate the original dictionary but in ascending order\n",
    "    \n",
    "    for v in sortDown:\n",
    "        sortedDescending[inverse_dict[v]] = v          # recreate the original dictinary but in descending order\n",
    "    \n",
    "    return sortedAscending, sortedDescending\n",
    "\n",
    "my_sorted_dictionary2 = sortDictionaryValues(my_dictionary)\n",
    "\n",
    "print('Ascending order:', my_sorted_dictionary2[0])\n",
    "print('Descending order:', my_sorted_dictionary2[1])\n",
    "\n",
    "# ref: https://docs.python.org/3/tutorial/datastructures.html "
   ]
  },
  {
   "cell_type": "code",
   "execution_count": 12,
   "metadata": {},
   "outputs": [
    {
     "name": "stdout",
     "output_type": "stream",
     "text": [
      "original string: my string\n",
      "modified string: gy strinm\n"
     ]
    }
   ],
   "source": [
    "# 4. Write a Python program to change a given string to a new string where the first and last chars have been exchanged.\n",
    "\n",
    "my_string = 'my string'\n",
    "print('original string:', my_string)\n",
    "string_as_list = list(my_string)         # convert string to 'list' datatype\n",
    "first_string_char = string_as_list[0]    # get first character in the string\n",
    "last_string_char = string_as_list[-1]    # get last character in the string\n",
    "string_as_list[0] = last_string_char     # replace the first character in the list with the last character in the string\n",
    "string_as_list[-1] = first_string_char   # replace the last character in the list with the first chararacter in the string\n",
    "s = ''                                   # initialize new string variable\n",
    "s = s.join(string_as_list)               # convert 'list' data type to string\n",
    "print('modified string:',s)                                 # print string with first & last characters exchanged\n"
   ]
  },
  {
   "cell_type": "code",
   "execution_count": 14,
   "metadata": {},
   "outputs": [
    {
     "name": "stdout",
     "output_type": "stream",
     "text": [
      "True : the lists have at lest one common member!\n"
     ]
    }
   ],
   "source": [
    "# 5. Write a Python function that takes two lists and returns True of they have at least one common member.\n",
    "\n",
    "list1 = ['a','b','c','d','e','f','g']\n",
    "list2 = [1,2,3,4,5,6,7, 'g']\n",
    "\n",
    "listAll = list1 + list2          # combine the lists in to one list\n",
    "setAll = {*listAll}              # convert the combined list into a set, this will have the effect of removing common items\n",
    "\n",
    "# compare the length of the combined list and the associated set,\n",
    "# the length of the set will be shorter than the combined list if the original lists had any common items\n",
    "if len(listAll)>len(setAll):     \n",
    "    print(True, ': the lists have at lest one common member!')\n",
    "else:\n",
    "    print(False, ': the lists have no common members!')"
   ]
  },
  {
   "cell_type": "code",
   "execution_count": 16,
   "metadata": {},
   "outputs": [
    {
     "name": "stdout",
     "output_type": "stream",
     "text": [
      "dollars: 123\n",
      "quarters: 1\n",
      "dimes: 1\n",
      "pennies: 1\n",
      "{'dollar': 123, 'quarter': 1, 'dime': 1, 'penny': 1}\n"
     ]
    }
   ],
   "source": [
    "# 6. Write a Python function that returns the minimum number of coins ($0.01, $0.10, $0.25, $1) that make a given value.\n",
    "\n",
    "initialValue = 123.36\n",
    "\n",
    "################################## 1st implementation ################################\n",
    "# number of dollars\n",
    "dollars = round(initialValue//1)\n",
    "\n",
    "# number of quarters\n",
    "quarters = round((initialValue-dollars)//0.25)\n",
    "\n",
    "# number of dimes\n",
    "dimes = round((initialValue-dollars-quarters*0.25)//0.10)\n",
    "\n",
    "# number of pennies\n",
    "pennies = round((initialValue-dollars-quarters*0.25-dimes*0.1)/0.01)\n",
    "\n",
    "print('dollars:', dollars)\n",
    "print('quarters:', quarters)\n",
    "print('dimes:', dimes)\n",
    "print('pennies:', pennies)\n",
    "\n",
    "################################## 2nd implementation ################################\n",
    "\n",
    "def numberOfCoins(initialValue):\n",
    "    coins = {'dollar':100, 'quarter':25, 'dime':10, 'penny':1}\n",
    "    val = (initialValue*100)\n",
    "\n",
    "    numCoins = {'dollar':0, 'quarter':0, 'dime':0, 'penny':0}\n",
    "    for k in coins:\n",
    "        c = coins[k]\n",
    "        n = val//c\n",
    "        numCoins[k] = round(n)\n",
    "        val-= n*c\n",
    "\n",
    "    return(numCoins)\n",
    "\n",
    "numCoins = numberOfCoins(initialValue)\n",
    "\n",
    "print(numCoins)\n",
    "\n",
    "# Note: found that 2nd implementation doesn't work with initialValue > about 1023.61 (same is true for example code)"
   ]
  },
  {
   "cell_type": "code",
   "execution_count": 155,
   "metadata": {},
   "outputs": [],
   "source": [
    "# save to git hub"
   ]
  },
  {
   "cell_type": "code",
   "execution_count": null,
   "metadata": {},
   "outputs": [],
   "source": []
  }
 ],
 "metadata": {
  "kernelspec": {
   "display_name": "Python 3",
   "language": "python",
   "name": "python3"
  },
  "language_info": {
   "codemirror_mode": {
    "name": "ipython",
    "version": 3
   },
   "file_extension": ".py",
   "mimetype": "text/x-python",
   "name": "python",
   "nbconvert_exporter": "python",
   "pygments_lexer": "ipython3",
   "version": "3.7.4"
  }
 },
 "nbformat": 4,
 "nbformat_minor": 4
}
