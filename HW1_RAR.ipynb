{
 "cells": [
  {
   "cell_type": "code",
   "execution_count": 62,
   "metadata": {},
   "outputs": [
    {
     "name": "stdout",
     "output_type": "stream",
     "text": [
      "There are 2562 seconds in 42 minutes and 42 seconds.\n"
     ]
    }
   ],
   "source": [
    "# How many seconds are there in 42 minutes and 42 seconds?\n",
    "print(\"There are\", 42*60+42,\"seconds in 42 minutes and 42 seconds.\")"
   ]
  },
  {
   "cell_type": "code",
   "execution_count": 61,
   "metadata": {},
   "outputs": [
    {
     "name": "stdout",
     "output_type": "stream",
     "text": [
      "There are 6.2 miles in 10 kilometers.\n"
     ]
    }
   ],
   "source": [
    "# How many miles are ther in 10 kilometers?\n",
    "# Hint: there are 1.61 kilometers in a mile.\n",
    "print(\"There are\", round(10/1.61,1) ,\"miles in 10 kilometers.\")"
   ]
  },
  {
   "cell_type": "code",
   "execution_count": 18,
   "metadata": {},
   "outputs": [
    {
     "name": "stdout",
     "output_type": "stream",
     "text": [
      "The average pace was 6 minutes and 52.5 seconds per mile.\n",
      "average speed:\n",
      "0.0024 miles/sec\n",
      "0.145 miles/min\n",
      "8.73 miles/hr\n"
     ]
    }
   ],
   "source": [
    "# If you run a 10 kilometer race in 42 minutes and 42 seconds,\n",
    "# what is your average pace (time per mile in minutes and seconds)?\n",
    "# What is your average speed in miles per hour?\n",
    "totalSec = (42*60+42)\n",
    "miles = (10/1.61)\n",
    "minutes = totalSec/miles//60     # total seconds divided by miles = sec/mile, divide by 60 (floor division) to get only integer minutes\n",
    "seconds = totalSec/miles%60      # total seconds divided by miles = sec/mie, divide by 60 (modulo) to get remainder in seconds\n",
    "\n",
    "print('The average pace was', round(minutes), 'minutes and', round(seconds,1),'seconds per mile.')\n",
    "print('average speed:')\n",
    "print(round(miles/totalSec,4) ,'miles/sec')\n",
    "print(round(miles/totalSec*60,3) ,'miles/min')\n",
    "print(round(miles/totalSec*3600,2) ,'miles/hr')"
   ]
  },
  {
   "cell_type": "code",
   "execution_count": 83,
   "metadata": {},
   "outputs": [
    {
     "name": "stdout",
     "output_type": "stream",
     "text": [
      "   ______\n",
      "  /      \\\n",
      " /        \\\n",
      " |  STOP  |\n",
      " \\        /\n",
      "  \\______/\n"
     ]
    }
   ],
   "source": [
    "# print STOP sign\n",
    "print('   ______')\n",
    "print('  /      \\\\')\n",
    "print(' /        \\\\')\n",
    "print(' |  STOP  |')\n",
    "print(' \\\\        /')\n",
    "print('  \\\\______/')\n"
   ]
  }
 ],
 "metadata": {
  "kernelspec": {
   "display_name": "Python 3",
   "language": "python",
   "name": "python3"
  },
  "language_info": {
   "codemirror_mode": {
    "name": "ipython",
    "version": 3
   },
   "file_extension": ".py",
   "mimetype": "text/x-python",
   "name": "python",
   "nbconvert_exporter": "python",
   "pygments_lexer": "ipython3",
   "version": "3.7.4"
  }
 },
 "nbformat": 4,
 "nbformat_minor": 4
}
