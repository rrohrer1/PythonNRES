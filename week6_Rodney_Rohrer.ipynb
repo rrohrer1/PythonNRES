{
 "cells": [
  {
   "cell_type": "markdown",
   "metadata": {},
   "source": [
    "### 1. Given two 1-d arrays of simulated values and observed values, Write a Pyhton function \n",
    "\n",
    "### to calculate the mean error, coefficient of determination and nash coefficient. Loops are NOT allowed."
   ]
  },
  {
   "cell_type": "code",
   "execution_count": 6,
   "metadata": {},
   "outputs": [
    {
     "name": "stdout",
     "output_type": "stream",
     "text": [
      "[[81.13 24.14 99.2  91.37 37.89 41.75 94.67 40.85 95.42 42.63]]\n",
      "[[32.92 61.46  0.84 41.35 53.73 69.31 82.07 72.79 76.11 48.35]]\n",
      "mean error= 11.01\n",
      "nash coefficient= -2.4355\n",
      "coefficient of determination= 0.0903\n"
     ]
    }
   ],
   "source": [
    "import numpy as np\n",
    "\n",
    "# https://www.tutorialspoint.com/numpy/numpy_statistical_functions.htm\n",
    "##############################################################################################################\n",
    "# 1. Given two 1-D arrays of simulated values and observed values, write a Python function\n",
    "# to calculate the mean error, coefficient of determination, and nash coefficient. Loops are NOT allowed.\n",
    "\n",
    "# simulate data by generating two 1-D arrays each with 10 elements between 1-100\n",
    "simulatedVals = np.random.rand(1,10)*100\n",
    "observedVals = np.random.rand(1,10)*100\n",
    "\n",
    "def arraysMeanError(simVals, obsVals):\n",
    "    \"\"\" 'arraysMeanError' function calculates mean error between two arrays\"\"\"\n",
    "    \n",
    "    # convert lists to arrays\n",
    "    simVals = np.asarray(simVals)\n",
    "    obsVals = np.asarray(obsVals)\n",
    "    meanError = np.mean(simVals-obsVals)\n",
    "    return meanError\n",
    "\n",
    "def coeffDetermination(simVals, obsVals):\n",
    "    \"\"\" 'coeffDetermination' function calculates coefficient of determination\n",
    "    for regression between two numbers in arrays\"\"\"\n",
    "    \n",
    "    # convert lists to arrays\n",
    "    simVals = np.asarray(simVals)\n",
    "    obsVals = np.asarray(obsVals)\n",
    "    numObs = obsVals.size\n",
    "    # r^2 value (i.e. coefficient of determination)\n",
    "    coeffcient_of_determination = (numObs*np.sum(simVals*obsVals)-np.sum(simVals)*np.sum(obsVals))**2/ \\\n",
    "        ((numObs*np.sum(simVals**2)-np.sum(simVals)**2)*(numObs*np.sum(obsVals**2)-np.sum(obsVals)**2))\n",
    "            \n",
    "    return coeffcient_of_determination\n",
    "\n",
    "# https://www.hydrol-earth-syst-sci.net/23/4323/2019/\n",
    "# https://tonyladson.wordpress.com/2019/08/20/model-performance-based-on-coefficient-of-efficiency/\n",
    "def nashCoefficient(simVals, obsVals):\n",
    "    \"\"\" function calculates Nash coefficient \"\"\"   \n",
    "    nashCoef = 1-np.sum((simVals-obsVals)**2)/np.sum((obsVals-np.mean(obsVals))**2)\n",
    "    return nashCoef\n",
    "\n",
    "np.set_printoptions(precision=2)\n",
    "print(simulatedVals)\n",
    "print(observedVals)\n",
    "print(f'mean error= {arraysMeanError(simulatedVals, observedVals):.2f}')\n",
    "print(f'nash coefficient= {nashCoefficient(simulatedVals,observedVals):.4f}')\n",
    "print(f'coefficient of determination= {coeffDetermination(simulatedVals,observedVals):.4f}')"
   ]
  },
  {
   "cell_type": "markdown",
   "metadata": {},
   "source": [
    "### 2. Given `x` and `y`, write a Python function to perform linear regression \n",
    "\n",
    "### which returns `a`, `c` and `sum of square errors` where `ax + c = y` \n",
    "```python\n",
    "def linear_regression(x, y):\n",
    "    \n",
    "    return a, c, ssqe\n",
    "```"
   ]
  },
  {
   "cell_type": "code",
   "execution_count": 7,
   "metadata": {},
   "outputs": [
    {
     "name": "stdout",
     "output_type": "stream",
     "text": [
      "slope= 1.079\n",
      "intercept= 0.067\n",
      "sum of square error= 3.99\n"
     ]
    }
   ],
   "source": [
    "##############################################################################################################\n",
    "# 2. Given x and y, write a Python function to perform linear regression\n",
    "# which returns a, c, and sum of square error where ax+c=y\n",
    "\n",
    "#https://www.statisticshowto.datasciencecentral.com/probability-and-statistics/regression-analysis/find-a-linear-regression-equation/\n",
    "\n",
    "def linearRegression(x,y):\n",
    "    \n",
    "    x = np.array(x)\n",
    "    y = np.array(y)\n",
    "    numObs = x.size\n",
    " \n",
    "    # slope\n",
    "    a = (numObs*np.sum(x*y)-np.sum(x)*np.sum(y))/(numObs*np.sum(x**2)-np.sum(x)**2)\n",
    "    \n",
    "    # intercept\n",
    "    c = (np.sum(y)*np.sum(x**2)-np.sum(x)*np.sum(x*y))/(numObs*np.sum(x**2)-np.sum(x)**2)\n",
    "    \n",
    "    # calculate predicted 'y' from linear equaiton for which we just found the slope & intercept (i.e. y=a*x+c)\n",
    "    # then find the error by getting the difference between the predicted value and the actual value at that 'x'\n",
    "    sqError = np.sum(((a*x+c)-y)**2)\n",
    "       \n",
    "    return a, c, sqError\n",
    "\n",
    "x = [1,2,3,4,5,6,7,8,9,10]\n",
    "y = [0,3,4,4,6,6,8,9,9,11]\n",
    "\n",
    "info = linearRegression(x,y)\n",
    "\n",
    "print(f'slope= {info[0]:.3f}')\n",
    "print(f'intercept= {info[1]:.3f}')\n",
    "print(f'sum of square error= {info[2]:.2f}')"
   ]
  },
  {
   "cell_type": "markdown",
   "metadata": {},
   "source": [
    "### 3. Eestimate the mean precipitation on different land use types.\n",
    "\n",
    "```python\n",
    "landuse = np.random.randint(1, 5, [5, 5])\n",
    "precip  = np.random.random([5, 5])\n",
    "\n",
    "print('landuse\\n', landuse)\n",
    "print('precip \\n', precip)\n",
    "```\n",
    "\n"
   ]
  },
  {
   "cell_type": "code",
   "execution_count": 8,
   "metadata": {},
   "outputs": [
    {
     "name": "stdout",
     "output_type": "stream",
     "text": [
      "landuse\n",
      " [[3 3 3 4 2]\n",
      " [2 4 3 1 4]\n",
      " [1 3 1 1 3]\n",
      " [1 1 4 4 1]\n",
      " [1 4 4 2 1]]\n",
      "precip \n",
      " [[0.94 0.22 0.33 0.53 0.98]\n",
      " [0.34 0.78 0.18 0.31 0.26]\n",
      " [0.82 0.92 0.17 0.18 0.39]\n",
      " [0.57 0.53 0.08 0.9  0.28]\n",
      " [0.94 0.2  0.59 0.65 0.46]]\n",
      "{1: 0.4726534824426712, 2: 0.6585670094842618, 3: 0.4949792043288462, 4: 0.47552225225546013}\n"
     ]
    }
   ],
   "source": [
    "##############################################################################################################\n",
    "# 3. Esimate the mean precipitation on different land use types.\n",
    "\n",
    "# https://stackoverflow.com/questions/47409777/efficiently-sum-elements-of-a-numpy-array-corresponding-to-indices-matched-by-an\n",
    "\n",
    "landuse = np.random.randint(1, 5, [5, 5])\n",
    "precip  = np.random.random([5, 5])\n",
    "\n",
    "def meanPrecip(landuse, precip):\n",
    "    \n",
    "    landUseDictionary = {}\n",
    "    \n",
    "    for ii in np.unique(landuse):\n",
    "        landUseDictionary[ii] = precip[landuse == ii].mean()\n",
    "    \n",
    "    return landUseDictionary\n",
    "\n",
    "print('landuse\\n', landuse)\n",
    "print('precip \\n', precip)\n",
    "print(meanPrecip(landuse, precip))"
   ]
  },
  {
   "cell_type": "markdown",
   "metadata": {},
   "source": [
    "### 4. We have two array. The first array is the distribution of irrigated land. \n",
    "\n",
    "### The second array is the precipitation. \n",
    "\n",
    "```python\n",
    "landuse = np.random.randint(0, 1, [6, 6])\n",
    "precip  = np.random.random([6, 6])\n",
    "\n",
    "print('landuse\\n', landuse)\n",
    "print('precip \\n', precip)\n",
    "```\n",
    "\n",
    "A. Create a function to create the buffer zones of varied distances to the irrigated land.\n",
    "\n",
    "B. Calculate the mean precipitation in the buffer zones of different distance to the irrigated land.\n"
   ]
  },
  {
   "cell_type": "code",
   "execution_count": 9,
   "metadata": {},
   "outputs": [
    {
     "name": "stdout",
     "output_type": "stream",
     "text": [
      "{0.0: 0.5564360669801222, 1.0: 0.5109697948224297, 1.4142135623730951: 0.5935635505843907, 2.0: 0.7540108850815487, 2.23606797749979: 0.4167361814893151, 2.8284271247461903: 0.75230428576747, 3.1622776601683795: 0.28983358964698713}\n"
     ]
    },
    {
     "data": {
      "image/png": "[encoded data removed]",
      "text/plain": [
       "<Figure size 432x288 with 3 Axes>"
      ]
     },
     "metadata": {
      "needs_background": "light"
     },
     "output_type": "display_data"
    }
   ],
   "source": [
    "##############################################################################################################\n",
    "# 4. We have two arrays. The first array is the distribution of irrigated land.\n",
    "# The second array is the precipitation.\n",
    "# A. Create a function to create the buffer zones of varied distances to the irrigated land.\n",
    "# B. Calculate the mean precipitation in the buffer zones of different distance to the irrigated land.\n",
    "\n",
    "import numpy as np\n",
    "import matplotlib.pyplot as plt\n",
    "\n",
    "landuse = [\n",
    "    [0,0,0,0,0,0],\n",
    "    [0,0,0,0,0,0],\n",
    "    [0,0,1,0,0,0],\n",
    "    [0,0,1,1,1,0],\n",
    "    [0,0,1,0,0,0],\n",
    "    [0,0,0,0,0,0],\n",
    "    ]\n",
    "\n",
    "precip  = np.random.random([6, 6])\n",
    "plt.imshow(landuse)\n",
    "\n",
    "# define an array with distance to the center\n",
    "\n",
    "distX = np.arange(13).reshape([1,13])\n",
    "distY = np.arange(13).reshape([13,1])\n",
    "distance = ((distX-6)**2+(distY-6)**2)**0.5\n",
    "plt.imshow(distance, cmap='jet'); plt.colorbar()\n",
    "\n",
    "def createBuffer(landuse, distance=distance):\n",
    "    \n",
    "    buffer = np.full_like(landuse, 1e9)\n",
    "    n,m = buffer.shape\n",
    "    index = np.nonzero(landuse)\n",
    "    for i,j in np.array(index).T:\n",
    "        distBuffer = distance[(6-i):(6-i+n), (6-j):(6-j+m)]\n",
    "        buffer = np.where(distBuffer < buffer, distBuffer, buffer)\n",
    "    return buffer\n",
    "\n",
    "buffer = createBuffer(landuse)\n",
    "plt.imshow(buffer, cmap='jet'); plt.colorbar()\n",
    "\n",
    "# from problem #3\n",
    "def meanPrecip(landuse, precip):\n",
    "    \n",
    "    landUseDictionary = {}\n",
    "    \n",
    "    for ii in np.unique(landuse):\n",
    "        landUseDictionary[ii] = precip[landuse == ii].mean()\n",
    "    \n",
    "    return landUseDictionary\n",
    "\n",
    "print(meanPrecip(buffer, precip))"
   ]
  },
  {
   "cell_type": "markdown",
   "metadata": {},
   "source": [
    "### 5. Write a Python function to find the nearest point of a list of given points. \n",
    "\n",
    "### You are not allowed to use any type of loops.\n",
    "\n",
    "e. g. points = [(3, 4), (1, 2), (7, 8), (9, 4), (6, 5), (8, 7), (4, 7)]\n",
    "\n",
    "Hint: using numpy to create a N x N array which contain the distances between each ith an jth point pair; where N is the numer of points."
   ]
  },
  {
   "cell_type": "code",
   "execution_count": 10,
   "metadata": {},
   "outputs": [
    {
     "name": "stdout",
     "output_type": "stream",
     "text": [
      "[[1000000000          8         32         36         10         34\n",
      "          10]\n",
      " [         8 1000000000         72         68         34         74\n",
      "          34]\n",
      " [        32         72 1000000000         20         10          2\n",
      "          10]\n",
      " [        36         68         20 1000000000         10         10\n",
      "          34]\n",
      " [        10         34         10         10 1000000000          8\n",
      "           8]\n",
      " [        34         74          2         10          8 1000000000\n",
      "          16]\n",
      " [        10         34         10         34          8         16\n",
      "  1000000000]]\n",
      "[1 0 5 4 5 2 4]\n",
      "[[1000000000          8         32         36         10         34\n",
      "          10]\n",
      " [         8 1000000000         72         68         34         74\n",
      "          34]\n",
      " [        32         72 1000000000         20         10          2\n",
      "          10]\n",
      " [        36         68         20 1000000000         10         10\n",
      "          34]\n",
      " [        10         34         10         10 1000000000          8\n",
      "           8]\n",
      " [        34         74          2         10          8 1000000000\n",
      "          16]\n",
      " [        10         34         10         34          8         16\n",
      "  1000000000]]\n",
      "[1 0 5 4 5 2 4]\n"
     ]
    }
   ],
   "source": [
    "##############################################################################################################\n",
    "# 5. Write a Python function to find the nearest point of a list given points.\n",
    "# You are not allowed to use any type of loops.\n",
    "\n",
    "# e. g. points = [(3, 4), (1, 2), (7, 8), (9, 4), (6, 5), (8, 7), (4, 7)]\n",
    "# Hint: using numpy to create a N x N array which contain the distances between each ith an jth point pair; where N is the numer of points.\n",
    "\n",
    "points = [(3, 4), (1, 2), (7, 8), (9, 4), (6, 5), (8, 7), (4, 7)]\n",
    "points = np.array(points)\n",
    "\n",
    "# use method from the solution\n",
    "distances = ((points.reshape(7, 1, 2) - points.reshape(1, 7, 2)) ** 2).sum(axis=2)\n",
    "distances[np.arange(7), np.arange(7)] = 1e9\n",
    "print(distances)\n",
    "closestPoints = np.argmin(distances, axis=0)\n",
    "print(closestPoints)\n",
    "\n",
    "\n",
    "# try alternate solution with one line:\n",
    "# http://people.duke.edu/~ccc14/sta-663-2016/03A_Numbers.html\n",
    "oneLine = np.sum((points[None,:] - points[:,None])**2, -1)\n",
    "oneLine[np.arange(7), np.arange(7)] = 1e9\n",
    "print(oneLine)\n",
    "closestPt = np.argmin(oneLine, axis=0)\n",
    "print(closestPt)"
   ]
  },
  {
   "cell_type": "code",
   "execution_count": null,
   "metadata": {},
   "outputs": [],
   "source": []
  }
 ],
 "metadata": {
  "kernelspec": {
   "display_name": "Python 3",
   "language": "python",
   "name": "python3"
  },
  "language_info": {
   "codemirror_mode": {
    "name": "ipython",
    "version": 3
   },
   "file_extension": ".py",
   "mimetype": "text/x-python",
   "name": "python",
   "nbconvert_exporter": "python",
   "pygments_lexer": "ipython3",
   "version": "3.7.6"
  }
 },
 "nbformat": 4,
 "nbformat_minor": 4
}
