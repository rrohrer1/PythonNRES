{
 "cells": [
  {
   "cell_type": "markdown",
   "metadata": {},
   "source": [
    "### NRES898 Python Programming in Geoscience - week 4 exercises - Rodney Rohrer"
   ]
  },
  {
   "cell_type": "markdown",
   "metadata": {},
   "source": [
    "### 4.1 Write a Python program that prints all the numbers from 0 to 6 except 3 and 6.\n",
    "\n",
    "Note: Use 'continue' statement\n",
    "\n",
    "Expected Output: 0 1 2 4 5"
   ]
  },
  {
   "cell_type": "code",
   "execution_count": 5,
   "metadata": {},
   "outputs": [
    {
     "name": "stdout",
     "output_type": "stream",
     "text": [
      "0 1 2 4 5 "
     ]
    }
   ],
   "source": [
    "for i in range(7):\n",
    "    if i == 3 or i==6:   # don't print the number if it is a 3 or 6\n",
    "        continue\n",
    "    else:\n",
    "        print(i, end=\" \")"
   ]
  },
  {
   "cell_type": "markdown",
   "metadata": {},
   "source": [
    "### 4.2 Write a Python program to check the validity of password input by users.\n",
    "Validation:\n",
    "* At least 1 letter between [a-z] and 1 letter between [A-Z].\n",
    "* At least 1 number between [0-9].\n",
    "* At least 1 character from [$ # @].\n",
    "* Minimum length 6 characters.\n",
    "* Maximum length 16 characters."
   ]
  },
  {
   "cell_type": "code",
   "execution_count": 6,
   "metadata": {},
   "outputs": [
    {
     "name": "stdout",
     "output_type": "stream",
     "text": [
      "Your password must include a lower case character!\n",
      "Your password must include an upper case character!\n",
      "Your password must include a number!\n",
      "Your password must include a special character!\n",
      "Your password must be between 6 and 16 characters!\n"
     ]
    }
   ],
   "source": [
    "def checkPassword(myPassword):\n",
    "\n",
    "    specialCharacters = [\"$\", \"#\", \"@\"]\n",
    "\n",
    "    ########### At least 1 lower case letter ############################\n",
    "    if not any(ord(letters) in range(ord('a'), ord('z')) for letters in myPassword):\n",
    "        print('Your password must include a lower case character!')\n",
    "    \n",
    "    ########### At least 1 upper case letter ############################   \n",
    "    if not any(ord(letters) in range(ord('A'), ord('Z')) for letters in myPassword):\n",
    "        print('Your password must include an upper case character!')    \n",
    "    \n",
    "    ########### At least 1 number  ######################################\n",
    "    if not any(ord(letters) in range(ord('0'), ord('9')) for letters in myPassword):\n",
    "        print('Your password must include a number!')\n",
    "    \n",
    "    ########### At least 1 character from [$ # @] #######################\n",
    "    if not any (letters in specialCharacters for letters in myPassword):\n",
    "        print('Your password must include a special character!')\n",
    "\n",
    "    ########### At least 1 character from [$ # @] #######################    \n",
    "    if len(myPassword) < 6 or len(myPassword) > 16:\n",
    "        print('Your password must be between 6 and 16 characters!')\n",
    "\n",
    "\n",
    "#myPassword = 'my #1 PASSWORD' \n",
    "myPassword = ''\n",
    "checkPassword(myPassword)\n"
   ]
  },
  {
   "cell_type": "markdown",
   "metadata": {},
   "source": [
    "### 4.3 Write a Python program to construct the following pattern, using a nested for loop.\n",
    "\n",
    "* '*\n",
    "* '* *\n",
    "* '* * *\n",
    "* '* * * *\n",
    "* '* * * * *\n",
    "* '* * * * -\n",
    "* '* * * - -\n",
    "* '* * - - -\n",
    "* '* - - - -\n"
   ]
  },
  {
   "cell_type": "code",
   "execution_count": 7,
   "metadata": {},
   "outputs": [
    {
     "name": "stdout",
     "output_type": "stream",
     "text": [
      "* \n",
      "* * \n",
      "* * * \n",
      "* * * * \n",
      "* * * * * \n",
      "* * * * - \n",
      "* * * - - \n",
      "* * - - - \n",
      "* - - - - \n"
     ]
    }
   ],
   "source": [
    "rows = 5\n",
    "\n",
    "# iterate through top half of pattern wiht \"* \"\n",
    "for i in range(0, rows):\n",
    "     for ii in range(0, i + 1):\n",
    "             print(\"*\", end=' ')\n",
    " \n",
    "     print(\"\\r\")\n",
    "\n",
    "# iterate through bottom half of pattern with \"* \" and \"- \"\n",
    "for j in range(rows-1, 0, -1):\n",
    "    for jj in range(0, rows):\n",
    "        if jj<j:\n",
    "            print(\"*\", end=' ')\n",
    "        else:\n",
    "            print(\"-\", end=' ')\n",
    "    \n",
    "    print(\"\\r\")"
   ]
  },
  {
   "cell_type": "markdown",
   "metadata": {},
   "source": [
    "### 4.4 There are 10 cars and their information are stored in four lists.\n",
    "Based on the information provided\n",
    "1. Find the brand and model of the safest car\n",
    "1. Find the safest brand for each vehicle type\n",
    "1. Calculate the total accidents for each brand and vehicle type, respectively.\n"
   ]
  },
  {
   "cell_type": "code",
   "execution_count": 8,
   "metadata": {},
   "outputs": [
    {
     "name": "stdout",
     "output_type": "stream",
     "text": [
      "The safect car is a Chevy Silverado .\n",
      "\n",
      "Safest brands for each vehicle type:\n",
      "Sedan : Honda\n",
      "Pickup : Chevy\n",
      "SUV : Ford\n",
      "\n",
      "\n",
      "Total accidents for each brand:\n",
      "Chevy {'Honda': 201, 'Ford': 212, 'Chevy': 147} \n",
      "\n",
      "Total accidents for each brand:\n",
      "SUV {'Sedan': 165, 'Pickup': 56, 'SUV': 339} \n",
      "\n",
      "##############################################################################################\n",
      "Here I tried to complete task 3 in a new way with a nested dicitionary\n",
      "but cant seem to get the sub dictionary to reset for each brand. See notes above.\n",
      "\n",
      "Total accidents for each brand and vehicle type:\n",
      "\n",
      "Honda {'Sedan': 29, 'Pickup': 0, 'SUV': 172}\n",
      "Ford {'Sedan': 29, 'Pickup': 45, 'SUV': 339}\n",
      "Chevy {'Sedan': 165, 'Pickup': 56, 'SUV': 339}\n"
     ]
    }
   ],
   "source": [
    "brand = ['Ford', 'Ford', 'Chevy', 'Chevy', 'Honda', 'Ford', 'Honda', 'Honda', 'Ford', 'Chevy']\n",
    "model = ['F150', 'Escape', 'Charger', 'Charger', 'Civic', 'Escape', 'CRV', 'CRV', 'F150', 'Silverado']\n",
    "vehicleType = ['Pickup', 'SUV', 'Sedan', 'Sedan', 'Sedan', 'SUV', 'SUV', 'SUV', 'Pickup', 'Pickup']\n",
    "accidentsPerYear = [25, 79, 46, 90, 29, 88, 79, 93, 20, 11]\n",
    "\n",
    "########## 1) Find the brand and model of the safest car.##########################################\n",
    "    \n",
    "minIndex =  accidentsPerYear.index(min(accidentsPerYear))\n",
    "print(\"The safect car is a\", brand[minIndex], model[minIndex], \".\\n\")\n",
    "\n",
    "########## 2) Find the safest brand for each vehicle type. #########################################\n",
    "\n",
    "# convert vehicleType to 'set' to create collection of unique types\n",
    "# create dictionary from vehicle categories to store index of safest vehicle for each category\n",
    "typeCategories = dict.fromkeys(set(vehicleType), 0)\n",
    "\n",
    "for typeKey in typeCategories:            # iterate through each vehicle type\n",
    "    minAccidents = max(accidentsPerYear)  # initialize variable with max value\n",
    "    minIndex = 0                          # initialize variable\n",
    "    for i in range(0,len(vehicleType)):   \n",
    "        if typeKey == vehicleType[i]:     # iterate through the list of vehicle to determine each vehicle type\n",
    "            if minAccidents > accidentsPerYear[i]:\n",
    "                minAccidents = accidentsPerYear[i]    # track minimum number of accidents for the current vehicle type\n",
    "                minIndex = i                          # track index of veicle with minimum number of accidentsPerYear\n",
    "            else:\n",
    "                minAccidents = minAccidents\n",
    "                minIndex = minIndex\n",
    "        typeCategories[typeKey] = minIndex\n",
    "\n",
    "print(\"Safest brands for each vehicle type:\")        \n",
    "for typeKey in typeCategories:\n",
    "    print(typeKey,':', brand[typeCategories[typeKey]])\n",
    "\n",
    "print('\\n')\n",
    "\n",
    "########## 3) Calculate the total accidents for each brand and vehicle type, respectively. ##########\n",
    "    \n",
    "# convert brand set to create collection of unique brands\n",
    "# create dictionary from brand categories to store index of safest vehicle for each brand\n",
    "brandCategories = dict.fromkeys(set(brand), 0)\n",
    "\n",
    "for i in range(0, len(brand)):\n",
    "    for b in brandCategories:\n",
    "        if b == brand[i]:\n",
    "            brandCategories[b] += accidentsPerYear[i]\n",
    "\n",
    "print('Total accidents for each brand:')\n",
    "print(b, brandCategories, '\\n')\n",
    "\n",
    "# convert to vehicleType to set to create collection of unique types\n",
    "# create dictionary from vehicle categories to store index of safest vehicle for each type\n",
    "typeCategories = dict.fromkeys(set(vehicleType), 0)\n",
    "\n",
    "for i in range(0, len(vehicleType)):\n",
    "    for t in typeCategories:\n",
    "        if t == vehicleType[i]:\n",
    "            typeCategories[t] += accidentsPerYear[i]\n",
    "\n",
    "print('Total accidents for each brand:')\n",
    "print(t, typeCategories, '\\n')\n",
    "\n",
    "#####################################################################################################\n",
    "########## 3) Calculate the total accidents for each brand and vehicle type, respectively. ##########\n",
    "########## Here I tried to complete task 3 with a nested dicitionary. It seems I was mostly #########\n",
    "########## successful but I can't seem to reset the sub dictionary for each brand. ##################\n",
    "#####################################################################################################\n",
    "\n",
    "print('##############################################################################################')\n",
    "print('Here I tried to complete task 3 in a new way with a nested dicitionary\\n\\\n",
    "but cant seem to get the sub dictionary to reset for each brand. See notes above.\\n')\n",
    "print('Total accidents for each brand and vehicle type:\\n')\n",
    "\n",
    "\n",
    "# convert to vehicleType to set to create collection of unique types\n",
    "# create dictionary from vehicle categories to store index of safest vehicle for each type\n",
    "typeCategories = dict.fromkeys(set(vehicleType), 0)\n",
    "\n",
    "# convert brand set to create collection of unique brands\n",
    "# create dictionary from brand categories to store index of safest vehicle for each brand\n",
    "brandCategories = dict.fromkeys(set(brand), 0)\n",
    "\n",
    "for bb in brandCategories:                  # create nested dictionary with brand as main key, type as sub key, and index as value\n",
    "    brandCategories[bb] = typeCategories\n",
    "\n",
    "for bb, tp in brandCategories.items():      # get brand & its sub dictionary\n",
    "    for ii in range(0, len(brand)):         # iterate through all veh\n",
    "        if bb == brand[ii]:                  # if current brand == brand category\n",
    "            for tt in tp:                   # then iterate through vehicle types\n",
    "                if tt == vehicleType[ii]:    # if current type == type category\n",
    "                    brandCategories[bb][tt] += accidentsPerYear[ii]  # then sum up accidentsPerYear\n",
    "    print(bb, brandCategories[bb])\n",
    "    \n",
    "#for b in brandCategories:                \n",
    "#    print(b, brandCategories[b])\n",
    "\n"
   ]
  },
  {
   "cell_type": "markdown",
   "metadata": {},
   "source": [
    "### 4.5 Classify daily temperatures (in degrees Celsius) stored in the temperatures list below into four different classes:\n",
    "\n",
    "* Cold: Temperatures below -2 degrees\n",
    "* Slippery: Temperatures equal to or warmer than -2 degrees and up to +2 degrees\n",
    "* Comfortable: Temperatures equal to or warmer than +2 degrees and up to +15\n",
    "degrees\n",
    "* Warm: Temperatures warmer than +15 degrees\n",
    "1. Store the index of day for each of the classes.\n",
    "1. Calculate the mean temperature in each class."
   ]
  },
  {
   "cell_type": "code",
   "execution_count": 9,
   "metadata": {},
   "outputs": [
    {
     "name": "stdout",
     "output_type": "stream",
     "text": [
      "Indices for each of the classes:\n",
      "cold = [0, 3, 6, 8, 9, 11, 12, 15, 17, 18, 21, 23, 24, 26, 27]\n",
      "slippery =  [1, 2, 5, 16, 19, 20, 22, 29, 30, 33, 39, 41, 42, 60, 63, 81]\n",
      "comfortable =  [4, 7, 10, 13, 14, 25, 28, 31, 32, 34, 35, 36, 37, 38, 40, 43, 44, 45, 46, 47, 48, 49, 50, 51, 52, 53, 54, 55, 56, 57, 58, 59, 61, 62, 64, 65, 66, 67, 68, 69, 70, 71, 72, 73, 74, 75, 76, 77, 78, 79, 80, 82, 83, 84, 85, 86, 87, 88, 89]\n",
      "warm =  [] \n",
      "\n",
      "Mean temperature for each class:\n",
      "mean Cold temp = -3.9 degC\n",
      "mean Slippery temp = 0.6 degC\n",
      "mean Comfortable temp = 5.0\n",
      "mean Warm temp = 0\n"
     ]
    }
   ],
   "source": [
    "temperatures = [-5.4, 1.0, -1.3, -4.8, 3.9, 0.1, -4.4, 4.0, -2.2, -3.9, 4.4, -2.5,\n",
    "-4.6, 5.1, 2.1, -2.4, 1.9, -3.3, -4.8, 1.0, -0.8, -2.8, -0.1, -4.7, -5.6, 2.6,\n",
    "-2.7, -4.6, 3.4, -0.4, -0.9, 3.1, 2.4, 1.6, 4.2, 3.5, 2.6, 3.1, 2.2, 1.8, 3.3,\n",
    "1.6, 1.5, 4.7, 4.0, 3.6, 4.9, 4.8, 5.3, 5.6, 4.1, 3.7, 7.6, 6.9, 5.1, 6.4, 3.8,\n",
    "4.0, 8.6, 4.1, 1.4, 8.9, 3.0, 1.6, 8.5, 4.7, 6.6, 8.1, 4.5, 4.8, 11.3, 4.7, 5.2,\n",
    "11.5, 6.2, 2.9, 4.3, 2.8, 2.8, 6.3, 2.6, -0.0, 7.3, 3.4, 4.7, 9.3, 6.4, 5.4, 7.6,\n",
    "5.2]\n",
    "\n",
    "# Cold: Temperatures below -2 degrees.\n",
    "cold = [i for i, n in enumerate(temperatures) if n<(-2)]      \n",
    "sum=0\n",
    "for i in cold:\n",
    "    sum += temperatures[i]    \n",
    "\n",
    "if len(cold)>0:\n",
    "    avgCold = sum/len(cold)\n",
    "else:\n",
    "    avgCold = 0\n",
    "\n",
    "# Slippery: Temperatures equal to or warmer than -2 degrees and up to +2 degrees.\n",
    "slippery = [i for i, n in enumerate(temperatures) if n>-2 and n<+2]      \n",
    "sum=0\n",
    "for i in slippery:\n",
    "    sum += temperatures[i]    \n",
    "\n",
    "if len(slippery)>0:\n",
    "    avgSlippery = sum/len(slippery)\n",
    "else:\n",
    "    avgSlippery = 0\n",
    "\n",
    "# Comfortable: Temperatures equal to or warmer than +2 degrees and up to +15 degrees.\n",
    "comfortable = [i for i, n in enumerate(temperatures) if n>=+2 and n<15]      \n",
    "sum=0\n",
    "for i in comfortable:\n",
    "    sum += temperatures[i]    \n",
    "\n",
    "if len(comfortable)>0:\n",
    "    avgComfortable = sum/len(comfortable)\n",
    "else:\n",
    "    avgComfortable = 0\n",
    "\n",
    "# Warm: Temperatures warmer than +15 degrees.\n",
    "warm = [i for i, n in enumerate(temperatures) if n>15]      \n",
    "sum=0\n",
    "for i in warm:\n",
    "    sum += temperatures[i]\n",
    "\n",
    "if len(warm)>0:\n",
    "    avgWarm = sum/len(warm)\n",
    "else:\n",
    "    avgWarm = 0\n",
    "\n",
    "# 1) Store the index of day for each of the classes.\n",
    "print(\"Indices for each of the classes:\")\n",
    "print(\"cold =\", cold)\n",
    "print(\"slippery = \", slippery)\n",
    "print(\"comfortable = \", comfortable)\n",
    "print(\"warm = \", warm, '\\n')\n",
    "\n",
    "\n",
    "# 2) Calculate the mean temperature in each class.\n",
    "print('Mean temperature for each class:')\n",
    "print(\"mean Cold temp =\" , round(avgCold,1), \"degC\")\n",
    "print(\"mean Slippery temp =\" , round(avgSlippery,1), \"degC\")\n",
    "print(\"mean Comfortable temp =\" , round(avgComfortable,1), )\n",
    "print(\"mean Warm temp =\" , round(avgWarm,1))"
   ]
  },
  {
   "cell_type": "markdown",
   "metadata": {},
   "source": [
    "### 4.6 Given a string, find the length of the longest substring without repeating characters.\n",
    "\n",
    "* Example 1\n",
    "\n",
    " * Input: \"abcabcbb\"\n",
    " * Output: 3\n",
    " * Explanation: The answer is \"abc\", with the length of 3.\n",
    "\n",
    "\n",
    "\n",
    "*  Example 2\n",
    " * Input: \"bbbbb\"\n",
    " * Output: 1\n",
    " * Explanation: The answer is \"b\", with the length of 1.\n",
    "\n",
    "\n",
    "*  Example 3\n",
    " * Input: \"pwwkew\"\n",
    " * Output: 3\n",
    " * Explanation: The answer is \"wke\", with the length of 3.\n",
    " * Note that the answer must be a substring, \"pwke\" is a subsequence and not a\n",
    "substring.\n"
   ]
  },
  {
   "cell_type": "code",
   "execution_count": 10,
   "metadata": {},
   "outputs": [
    {
     "name": "stdout",
     "output_type": "stream",
     "text": [
      "Longest substrings:\n",
      "6\n",
      "8\n",
      "1\n"
     ]
    }
   ],
   "source": [
    "myString = ['xxdxrrgkjhih','abcabcbbaalsdkjfa;lsdkjf;alskdjfa;slkdfja;lskdjf', 'aaaaaaa']\n",
    "#myString = ['xxdxrrgkjhih']\n",
    "\n",
    "def longestSubString(myString):\n",
    "    \n",
    "    stringCharacters = {}       # dictionary to store unique characters in string and indices of their latest occurance\n",
    "    longestSub = 0\n",
    "    subStringLeftIndex = 0           \n",
    "\n",
    "    for i, newCharacter in enumerate(myString):\n",
    "        #print(stringCharacters, subStringLeftIndex, longestSub)\n",
    "        \n",
    "        # if character has already been detected then then reset left sub string index\n",
    "        if newCharacter in stringCharacters:\n",
    "            subStringLeftIndex = max(subStringLeftIndex, stringCharacters[newCharacter]+1) # left index of latest sub string\n",
    "\n",
    "        stringCharacters[newCharacter] = i                         # add newest character and/or update index of its latest occurence\n",
    "        longestSub = max(longestSub, i - subStringLeftIndex +1)    # store cumulative length of longest sub string\n",
    "\n",
    "    return longestSub\n",
    "\n",
    "print('Longest substrings:')\n",
    "for i in myString:\n",
    "        print(longestSubString(i))"
   ]
  },
  {
   "cell_type": "markdown",
   "metadata": {},
   "source": [
    "### 4.7 Given an array of nums of n integers, are there elements a, b, c in nums such that a + b + c = 0?\n",
    "\n",
    "* Find all unique triplets in the array which gives the sum zero.\n",
    "* The solution set must not contain duplicate triplets.\n",
    "* Ex. Given array nums = [-1, 0, 1, 2, -1, -4]\n",
    "* A solution set is: [[-1, 0, 1], [-1, -1, 2]]"
   ]
  },
  {
   "cell_type": "code",
   "execution_count": 11,
   "metadata": {},
   "outputs": [
    {
     "name": "stdout",
     "output_type": "stream",
     "text": [
      "Groups of elements that sum to zero: [[-1, 0, 1], [-1, 2, -1], [0, 1, -1], [0, 2, -2], [0, 10, -10], [0, 10, -10], [-4, 6, -2]] \n",
      "\n",
      "List of unique groups: [(-1, -1, 2), (-4, -2, 6), (-2, 0, 2), (-1, 0, 1), (-10, 0, 10)]\n"
     ]
    }
   ],
   "source": [
    "nums = [-1, 0, 1, 2, -1, -4, 6, -2, 10, -10, -10]\n",
    "\n",
    "# find groups of three that sum to zero\n",
    "myList = []\n",
    "for a in range(0,len(nums)-2):\n",
    "    for b in range(a+1, len(nums)-1):\n",
    "        for c in range(b+1, len(nums)):\n",
    "              if nums[a]+ nums[b]+ nums[c]==0:\n",
    "                #print(nums[a], nums[b], nums[c])\n",
    "                myList.append([nums[a], nums[b], nums[c]]) # if sum to zero then store the group of values\n",
    "                \n",
    "print('Groups of elements that sum to zero:', myList, '\\n')\n",
    "\n",
    "# remove redundant groups from list\n",
    "mySortedList = set()   # use a 'set' data type to remove redundant groups\n",
    "for i in myList:\n",
    "    i.sort()           # sort groups so reduntant groups will be in the same order & can be filtered out\n",
    "    iTuple = tuple(i)\n",
    "    mySortedList.add(iTuple)  # because mySotredList is 'set' data type it will not store redundant groups\n",
    "    \n",
    "print('List of unique groups:', list(mySortedList))\n"
   ]
  }
 ],
 "metadata": {
  "kernelspec": {
   "display_name": "Python 3",
   "language": "python",
   "name": "python3"
  },
  "language_info": {
   "codemirror_mode": {
    "name": "ipython",
    "version": 3
   },
   "file_extension": ".py",
   "mimetype": "text/x-python",
   "name": "python",
   "nbconvert_exporter": "python",
   "pygments_lexer": "ipython3",
   "version": "3.7.4"
  }
 },
 "nbformat": 4,
 "nbformat_minor": 4
}
